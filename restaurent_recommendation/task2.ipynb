{
 "cells": [
  {
   "cell_type": "code",
   "execution_count": 1,
   "metadata": {},
   "outputs": [],
   "source": [
    "import pandas as pd\n",
    "from sklearn.feature_extraction.text import CountVectorizer\n",
    "from sklearn.metrics.pairwise import cosine_similarity"
   ]
  },
  {
   "cell_type": "code",
   "execution_count": 2,
   "metadata": {},
   "outputs": [],
   "source": [
    "data = pd.read_csv('Dataset .csv')"
   ]
  },
  {
   "cell_type": "code",
   "execution_count": 3,
   "metadata": {},
   "outputs": [],
   "source": [
    "data['Cuisines'] = data['Cuisines'].fillna('Unknown')"
   ]
  },
  {
   "cell_type": "code",
   "execution_count": 4,
   "metadata": {},
   "outputs": [],
   "source": [
    "data['Features'] = (\n",
    "    data['Cuisines'] + ' ' +\n",
    "    data['Price range'].astype(str) + ' ' +\n",
    "    data['Aggregate rating'].astype(str)\n",
    ")"
   ]
  },
  {
   "cell_type": "code",
   "execution_count": 5,
   "metadata": {},
   "outputs": [
    {
     "data": {
      "text/plain": [
       "0             French, Japanese, Desserts 3 4.8\n",
       "1                               Japanese 3 4.5\n",
       "2       Seafood, Asian, Filipino, Indian 4 4.4\n",
       "3                        Japanese, Sushi 4 4.9\n",
       "4                       Japanese, Korean 4 4.8\n",
       "                         ...                  \n",
       "9546                             Turkish 3 4.1\n",
       "9547     World Cuisine, Patisserie, Cafe 3 4.2\n",
       "9548              Italian, World Cuisine 4 3.7\n",
       "9549                     Restaurant Cafe 4 4.0\n",
       "9550                                Cafe 2 4.0\n",
       "Name: Features, Length: 9551, dtype: object"
      ]
     },
     "execution_count": 5,
     "metadata": {},
     "output_type": "execute_result"
    }
   ],
   "source": [
    "data['Features']"
   ]
  },
  {
   "cell_type": "code",
   "execution_count": 6,
   "metadata": {},
   "outputs": [],
   "source": [
    "vectorizer = CountVectorizer()\n",
    "feature_matrix = vectorizer.fit_transform(data['Features'])"
   ]
  },
  {
   "cell_type": "code",
   "execution_count": 7,
   "metadata": {},
   "outputs": [
    {
     "data": {
      "text/plain": [
       "<9551x151 sparse matrix of type '<class 'numpy.int64'>'\n",
       "\twith 27081 stored elements in Compressed Sparse Row format>"
      ]
     },
     "execution_count": 7,
     "metadata": {},
     "output_type": "execute_result"
    }
   ],
   "source": [
    "feature_matrix"
   ]
  },
  {
   "cell_type": "code",
   "execution_count": 8,
   "metadata": {},
   "outputs": [],
   "source": [
    "similarity_matrix = cosine_similarity(feature_matrix)"
   ]
  },
  {
   "cell_type": "code",
   "execution_count": 9,
   "metadata": {},
   "outputs": [
    {
     "data": {
      "text/plain": [
       "array([[1.        , 0.57735027, 0.        , ..., 0.        , 0.        ,\n",
       "        0.        ],\n",
       "       [0.57735027, 1.        , 0.        , ..., 0.        , 0.        ,\n",
       "        0.        ],\n",
       "       [0.        , 0.        , 1.        , ..., 0.        , 0.        ,\n",
       "        0.        ],\n",
       "       ...,\n",
       "       [0.        , 0.        , 0.        , ..., 1.        , 0.        ,\n",
       "        0.        ],\n",
       "       [0.        , 0.        , 0.        , ..., 0.        , 1.        ,\n",
       "        0.70710678],\n",
       "       [0.        , 0.        , 0.        , ..., 0.        , 0.70710678,\n",
       "        1.        ]])"
      ]
     },
     "execution_count": 9,
     "metadata": {},
     "output_type": "execute_result"
    }
   ],
   "source": [
    "similarity_matrix"
   ]
  },
  {
   "cell_type": "code",
   "execution_count": 10,
   "metadata": {},
   "outputs": [],
   "source": [
    "def recommend_restaurants(user_cuisine, user_price_range, user_rating, top_n=5):\n",
    "    \n",
    "    user_input = f\"{user_cuisine} {user_price_range} {user_rating}\"\n",
    "    user_vector = vectorizer.transform([user_input])\n",
    "    \n",
    "    # Calculate similarity scores\n",
    "    similarity_scores = cosine_similarity(user_vector, feature_matrix).flatten()\n",
    "    \n",
    "    # Sort and filter recommendations\n",
    "    recommendations = data.copy()\n",
    "    recommendations['Similarity'] = similarity_scores\n",
    "    recommendations = recommendations[\n",
    "        (recommendations['Aggregate rating'] >= user_rating) &\n",
    "        (recommendations['Price range'] == user_price_range)\n",
    "    ]\n",
    "    recommendations = recommendations.sort_values(by='Similarity', ascending=False)\n",
    "    \n",
    "    return recommendations[['Restaurant Name', 'Cuisines', 'Price range', 'Aggregate rating']].head(top_n)\n"
   ]
  },
  {
   "cell_type": "code",
   "execution_count": 11,
   "metadata": {},
   "outputs": [
    {
     "name": "stdout",
     "output_type": "stream",
     "text": [
      "       Restaurant Name                  Cuisines  Price range  \\\n",
      "1     Izakaya Kikufuji                  Japanese            3   \n",
      "9383              Roka           Japanese, Sushi            3   \n",
      "9396      Bone Daddies           Ramen, Japanese            3   \n",
      "9287        Sushi Masa           Sushi, Japanese            3   \n",
      "1222       Yum Yum Cha  Chinese, Japanese, Sushi            3   \n",
      "\n",
      "      Aggregate rating  \n",
      "1                  4.5  \n",
      "9383               4.6  \n",
      "9396               4.6  \n",
      "9287               4.9  \n",
      "1222               4.5  \n"
     ]
    }
   ],
   "source": [
    "user_preferences = {\n",
    "    'user_cuisine': 'Japanese',\n",
    "    'user_price_range': 3,\n",
    "    'user_rating': 4.5\n",
    "}\n",
    "recommendations = recommend_restaurants(**user_preferences, top_n=5)\n",
    "print(recommendations)"
   ]
  },
  {
   "cell_type": "code",
   "execution_count": 17,
   "metadata": {},
   "outputs": [
    {
     "name": "stdout",
     "output_type": "stream",
     "text": [
      "Overwriting app.py\n"
     ]
    }
   ],
   "source": [
    "%%writefile app.py\n",
    "import streamlit as st\n",
    "import pandas as pd\n",
    "st.title(\"Restaurant Recommendation System\")\n",
    "\n",
    "st.sidebar.header(\"Enter Your Preferences\")\n",
    "user_cuisine = st.sidebar.text_input(\"Cuisine (e.g., Japanese, Italian):\", \"Japanese\")\n",
    "user_price_range = st.sidebar.slider(\"Price Range (1-4):\", 1, 4, 3)\n",
    "user_rating = st.sidebar.slider(\"Minimum Rating (0.0 - 5.0):\", 0.0, 5.0, 4.5)\n",
    "\n",
    "if st.sidebar.button(\"Recommend\"):\n",
    "    recommendations = recommendations(\n",
    "        user_cuisine=user_cuisine,\n",
    "        user_price_range=user_price_range,\n",
    "        user_rating=user_rating,\n",
    "        top_n=5\n",
    "    )\n",
    "    if recommendations.empty:\n",
    "        st.warning(\"No matching restaurants found. Try changing your preferences.\")\n",
    "    else:\n",
    "        st.subheader(\"Top Recommendations\")\n",
    "        st.table(recommendations)\n",
    "\n"
   ]
  },
  {
   "cell_type": "code",
   "execution_count": 18,
   "metadata": {},
   "outputs": [
    {
     "name": "stdout",
     "output_type": "stream",
     "text": [
      "^C\n"
     ]
    }
   ],
   "source": [
    "!streamlit run app.py"
   ]
  },
  {
   "cell_type": "code",
   "execution_count": null,
   "metadata": {},
   "outputs": [],
   "source": []
  }
 ],
 "metadata": {
  "kernelspec": {
   "display_name": "Python 3",
   "language": "python",
   "name": "python3"
  },
  "language_info": {
   "codemirror_mode": {
    "name": "ipython",
    "version": 3
   },
   "file_extension": ".py",
   "mimetype": "text/x-python",
   "name": "python",
   "nbconvert_exporter": "python",
   "pygments_lexer": "ipython3",
   "version": "3.12.3"
  }
 },
 "nbformat": 4,
 "nbformat_minor": 2
}
